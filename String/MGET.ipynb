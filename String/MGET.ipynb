{
 "cells": [
  {
   "cell_type": "code",
   "execution_count": 2,
   "id": "75fd8483-889b-4623-8095-a9ca00a70110",
   "metadata": {},
   "outputs": [],
   "source": [
    "import redis\n",
    "import time\n",
    "from datetime import datetime, timedelta"
   ]
  },
  {
   "cell_type": "code",
   "execution_count": 3,
   "id": "dcd621ac-0f6c-49bd-ba64-714601572a8b",
   "metadata": {},
   "outputs": [],
   "source": [
    "r = redis.Redis(decode_responses=True)"
   ]
  },
  {
   "cell_type": "code",
   "execution_count": 5,
   "id": "6718389d-faa7-4461-b999-04268baa2b20",
   "metadata": {},
   "outputs": [
    {
     "name": "stdout",
     "output_type": "stream",
     "text": [
      "['Deimos', 'BMW', None]\n"
     ]
    }
   ],
   "source": [
    "\"\"\"\n",
    "mget(key1, key2)\n",
    "- Returns the values of all specified keys\n",
    "- TC : O(N) where N is the number of keys to set\n",
    "- For every key that does not hold a string value or does not exist, the special value nil is returned. \n",
    "- Because of this, the operation never fails\n",
    "\"\"\"\n",
    "r.flushall()\n",
    "default_mset = r.mset({\"bike:1\":\"Deimos\", \"bike:2\":\"BMW\"})\n",
    "print(r.mget(\"bike:1\",\"bike:2\",\"bike:3\")) # ['Deimos', 'BMW', None]"
   ]
  }
 ],
 "metadata": {
  "kernelspec": {
   "display_name": "Python 3 (ipykernel)",
   "language": "python",
   "name": "python3"
  },
  "language_info": {
   "codemirror_mode": {
    "name": "ipython",
    "version": 3
   },
   "file_extension": ".py",
   "mimetype": "text/x-python",
   "name": "python",
   "nbconvert_exporter": "python",
   "pygments_lexer": "ipython3",
   "version": "3.10.12"
  }
 },
 "nbformat": 4,
 "nbformat_minor": 5
}
