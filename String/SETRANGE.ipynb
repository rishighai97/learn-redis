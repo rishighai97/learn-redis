{
 "cells": [
  {
   "cell_type": "code",
   "execution_count": 1,
   "id": "dcd3f732-4c37-4807-9b78-1c638fe1ce4d",
   "metadata": {},
   "outputs": [],
   "source": [
    "import redis\n",
    "import time\n",
    "from datetime import datetime, timedelta"
   ]
  },
  {
   "cell_type": "code",
   "execution_count": 2,
   "id": "46d513bd-0ff8-40f1-9d89-62681c044ae8",
   "metadata": {},
   "outputs": [],
   "source": [
    "r = redis.Redis(decode_responses=True)"
   ]
  },
  {
   "cell_type": "code",
   "execution_count": 17,
   "id": "693ebe65-2dc1-4ddc-9c43-c68b9290ecb5",
   "metadata": {},
   "outputs": [
    {
     "name": "stdout",
     "output_type": "stream",
     "text": [
      "Hello World\n",
      "Hello Redis\n",
      "He - SETRANGE\n"
     ]
    }
   ],
   "source": [
    "\"\"\"\n",
    "SETRANGE\n",
    "- Overwrites part of the string stored at key, starting at the specified offset, for the entire length of value.\n",
    "- Note that the maximum offset that you can set is 2^29 -1 (536870911), as Redis Strings are limited to 512 megabytes. \n",
    "- If you need to grow beyond this size, you can use multiple keys.\n",
    "- TC - O(1), not counting the time taken to copy the new string in place. Usually, this string is very small so the amortized complexity is O(1). Otherwise, complexity is O(M) with M being the length of the value argument.\n",
    "- Pattern - can be used to change part of key in O(1)\n",
    "\"\"\"\n",
    "r.flushall()\n",
    "r.set(\"key1\", \"Hello World\")\n",
    "print(r.get(\"key1\")) # Hello World\n",
    "r.setrange(\"key1\", 6, \"Redis\")\n",
    "print(r.get(\"key1\")) # Hello Redis\n",
    "r.setrange(\"key1\", 2, \" - SETRANGE\")\n",
    "print(r.get(\"key1\")) # He - SETRANGE"
   ]
  },
  {
   "cell_type": "code",
   "execution_count": 19,
   "id": "8819a785-cbc0-40f6-b19e-2a913ffe03bd",
   "metadata": {},
   "outputs": [
    {
     "name": "stdout",
     "output_type": "stream",
     "text": [
      "Hello World\n",
      "Hello World\u0000\u0000\u0000\u0000\u0000\u0000\u0000\u0000\u0000\u0000\u0000\u0000\u0000\u0000\u0000\u0000\u0000\u0000\u0000\u0000\u0000\u0000\u0000\u0000\u0000\u0000\u0000\u0000\u0000\u0000\u0000\u0000\u0000\u0000\u0000\u0000\u0000\u0000\u0000\u0000\u0000\u0000\u0000\u0000\u0000\u0000\u0000\u0000\u0000\u0000\u0000\u0000\u0000\u0000\u0000\u0000\u0000\u0000\u0000\u0000\u0000\u0000\u0000\u0000\u0000\u0000\u0000\u0000\u0000\u0000\u0000\u0000\u0000\u0000\u0000\u0000\u0000\u0000\u0000\u0000\u0000\u0000\u0000\u0000\u0000\u0000\u0000\u0000\u0000 Redis\n"
     ]
    }
   ],
   "source": [
    "\"\"\"\n",
    "If the offset is larger than the current length of the string at key, the string is padded with zero-bytes to make offset fit\n",
    "\"\"\"\n",
    "\n",
    "r.flushall()\n",
    "r.set(\"key1\", \"Hello World\")\n",
    "print(r.get(\"key1\")) # Hello World\n",
    "r.setrange(\"key1\", 100, \" Redis\")\n",
    "print(r.get(\"key1\")) # Hello World Redis"
   ]
  },
  {
   "cell_type": "code",
   "execution_count": 24,
   "id": "34b19837-3c92-4bb8-9dcd-d4956afcde5f",
   "metadata": {},
   "outputs": [
    {
     "name": "stdout",
     "output_type": "stream",
     "text": [
      "\u0000Hello World\n",
      "\u0000\u0000\u0000\u0000\u0000\u0000\u0000\u0000\u0000\u0000\u0000\u0000\u0000\u0000\u0000\u0000\u0000\u0000\u0000\u0000\u0000\u0000\u0000\u0000\u0000\u0000\u0000\u0000\u0000\u0000\u0000\u0000\u0000\u0000\u0000\u0000\u0000\u0000\u0000\u0000\u0000\u0000\u0000\u0000\u0000\u0000\u0000\u0000\u0000\u0000\u0000\u0000\u0000\u0000\u0000\u0000\u0000\u0000\u0000\u0000\u0000\u0000\u0000\u0000\u0000\u0000\u0000\u0000\u0000\u0000\u0000\u0000\u0000\u0000\u0000\u0000\u0000\u0000\u0000\u0000\u0000\u0000\u0000\u0000\u0000\u0000\u0000\u0000\u0000\u0000\u0000\u0000\u0000\u0000\u0000\u0000\u0000\u0000\u0000\u0000Hello World\n"
     ]
    }
   ],
   "source": [
    "\"\"\"\n",
    "Non-existing keys are considered as empty strings, so this command will make sure it holds a string large enough to be able to set value at offset\n",
    "\"\"\"\n",
    "r.flushall()\n",
    "r.setrange(\"key1\", 1, \"Hello World\")\n",
    "print(r.get(\"key1\")) # Hello World\n",
    "r.flushall()\n",
    "r.setrange(\"key1\", 100, \"Hello World\")\n",
    "print(r.get(\"key1\")) # Hello World"
   ]
  },
  {
   "cell_type": "code",
   "execution_count": null,
   "id": "c803cd6c-aef1-42ae-b479-0491190c273d",
   "metadata": {},
   "outputs": [],
   "source": [
    "\"\"\"\n",
    "Warning: When setting the last possible byte and the string value stored at key does not yet hold a string value, \n",
    "or holds a small string value, Redis needs to allocate all intermediate memory which can block the server for some time. \n",
    "On a 2010 MacBook Pro, setting byte number 536870911 (512MB allocation) takes ~300ms, \n",
    "setting byte number 134217728 (128MB allocation) takes ~80ms, setting bit number 33554432 (32MB allocation) takes ~30ms \n",
    "and setting bit number 8388608 (8MB allocation) takes ~8ms. \n",
    "Note that once this first allocation is done, subsequent calls to SETRANGE for the same key will not have the allocation overhead.\n",
    "\"\"\""
   ]
  }
 ],
 "metadata": {
  "kernelspec": {
   "display_name": "Python 3 (ipykernel)",
   "language": "python",
   "name": "python3"
  },
  "language_info": {
   "codemirror_mode": {
    "name": "ipython",
    "version": 3
   },
   "file_extension": ".py",
   "mimetype": "text/x-python",
   "name": "python",
   "nbconvert_exporter": "python",
   "pygments_lexer": "ipython3",
   "version": "3.10.12"
  }
 },
 "nbformat": 4,
 "nbformat_minor": 5
}
