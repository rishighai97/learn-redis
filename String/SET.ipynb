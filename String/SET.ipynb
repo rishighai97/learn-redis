{
 "cells": [
  {
   "cell_type": "code",
   "execution_count": 47,
   "id": "6c8a9713-c67e-45a7-ac9b-0423b6cc0399",
   "metadata": {},
   "outputs": [],
   "source": [
    "import redis\n",
    "import time\n",
    "from datetime import datetime, timedelta"
   ]
  },
  {
   "cell_type": "code",
   "execution_count": 2,
   "id": "cf1a0db4-65d0-4978-b36a-a9e2fb42bc81",
   "metadata": {},
   "outputs": [],
   "source": [
    "r = redis.Redis(decode_responses=True)"
   ]
  },
  {
   "cell_type": "code",
   "execution_count": 38,
   "id": "56698ba3-3362-415e-a989-ed4bb4b7a7d2",
   "metadata": {},
   "outputs": [
    {
     "name": "stdout",
     "output_type": "stream",
     "text": [
      "True\n",
      "Bullet\n"
     ]
    }
   ],
   "source": [
    "\"\"\"\n",
    "set(key, value)\n",
    "- set String value for String key\n",
    "- passing same key would override the value by default\n",
    "- TC : O(1)\n",
    "\"\"\"\n",
    "r.flushall()\n",
    "default_set = r.set(\"bike:1\", \"Deimos\")\n",
    "default_set = r.set(\"bike:1\", \"Bullet\")\n",
    "print(default_set)  # True\n",
    "\n",
    "default_get = r.get(\"bike:1\")\n",
    "print(default_get)  # Bullet"
   ]
  },
  {
   "cell_type": "code",
   "execution_count": 34,
   "id": "1e2e374d-8432-488d-987e-20a891d6d6ed",
   "metadata": {},
   "outputs": [
    {
     "name": "stdout",
     "output_type": "stream",
     "text": [
      "True\n",
      "None\n"
     ]
    }
   ],
   "source": [
    "\"\"\"\n",
    "NX\n",
    "- Only set the key if it does not exist\n",
    "\"\"\"\n",
    "r.flushall()\n",
    "nx = r.set(\"bike:nx\", \"Deimos\")\n",
    "print(nx) # True\n",
    "nx = r.set(\"bike:nx\", \"Bullet\", nx = True)\n",
    "print(nx) # None"
   ]
  },
  {
   "cell_type": "code",
   "execution_count": 37,
   "id": "59c06c3a-d6c8-463d-80e8-e74300eec102",
   "metadata": {},
   "outputs": [
    {
     "name": "stdout",
     "output_type": "stream",
     "text": [
      "True\n",
      "True\n",
      "None\n"
     ]
    }
   ],
   "source": [
    "\"\"\"\n",
    "XX\n",
    "- Only set the key if it already exists\n",
    "\"\"\"\n",
    "r.flushall()\n",
    "xx = r.set(\"bike:xx1\", \"Deimos\")\n",
    "print(xx) # True\n",
    "xx = r.set(\"bike:xx1\", \"BMW\", xx = True)\n",
    "print(xx) # True\n",
    "xx = r.set(\"bike:xx2\", \"Bullet\", xx = True)\n",
    "print(xx) # None"
   ]
  },
  {
   "cell_type": "code",
   "execution_count": 41,
   "id": "ae168a30-0565-4892-a403-de5db3aab80b",
   "metadata": {},
   "outputs": [
    {
     "name": "stdout",
     "output_type": "stream",
     "text": [
      "Deimos\n",
      "None\n"
     ]
    }
   ],
   "source": [
    "\"\"\"\n",
    "EX seconds\n",
    "- Set the specified expire time, in seconds (a positive integer)\n",
    "\"\"\"\n",
    "r.flushall()\n",
    "ex = r.set(\"bike:ex1\", \"Deimos\", ex = 3)\n",
    "time.sleep(1.5)\n",
    "print(r.get(\"bike:ex1\")) # Deimos\n",
    "time.sleep(3)\n",
    "print(r.get(\"bike:ex1\")) # None"
   ]
  },
  {
   "cell_type": "code",
   "execution_count": 74,
   "id": "4c21eadb-bc60-444d-b413-1bb4bad9a39d",
   "metadata": {},
   "outputs": [
    {
     "name": "stdout",
     "output_type": "stream",
     "text": [
      "Deimos\n",
      "None\n"
     ]
    }
   ],
   "source": [
    "\"\"\"\n",
    "EXAT timestamp-seconds\n",
    "- Set the specified Unix time at which the key will expire, in seconds (a positive integer)\n",
    "\"\"\"\n",
    "r.flushall()\n",
    "exat = r.set(\"bike:exat1\", \"Deimos\", exat = (datetime.now() + timedelta(0,3)) ) # 3 seconds from now on unix host\n",
    "#  exat and pxat same for python clients since datetime is expected for both flags\n",
    "time.sleep(1.5)\n",
    "print(r.get(\"bike:exat1\")) # Deimos\n",
    "time.sleep(3)\n",
    "print(r.get(\"bike:exat1\")) # None"
   ]
  },
  {
   "cell_type": "code",
   "execution_count": 77,
   "id": "08e9d0bf-851d-4753-b6ec-0dbb1d703835",
   "metadata": {},
   "outputs": [
    {
     "name": "stdout",
     "output_type": "stream",
     "text": [
      "Deimos\n",
      "None\n"
     ]
    }
   ],
   "source": [
    "\"\"\"\n",
    "PX milliseconds\n",
    "- Set the specified expire time, in milliseconds (a positive integer)\n",
    "\"\"\"\n",
    "r.flushall()\n",
    "px = r.set(\"bike:px1\", \"Deimos\", px = 3000)\n",
    "time.sleep(1.5)\n",
    "print(r.get(\"bike:px1\")) # Deimos\n",
    "time.sleep(3)\n",
    "print(r.get(\"bike:px1\")) # None"
   ]
  },
  {
   "cell_type": "code",
   "execution_count": 79,
   "id": "28d40c43-0b53-45d7-a85a-cd99ed47f3ca",
   "metadata": {},
   "outputs": [
    {
     "name": "stdout",
     "output_type": "stream",
     "text": [
      "Deimos\n",
      "None\n"
     ]
    }
   ],
   "source": [
    "\"\"\"\n",
    "PXAT timestamp-milliseconds\n",
    "- Set the specified Unix time at which the key will expire, in milliseconds (a positive integer)\n",
    "\"\"\"\n",
    "r.flushall()\n",
    "pxat = r.set(\"bike:pxat1\", \"Deimos\",pxat = datetime.now() + timedelta(0,3))  # 3000 milliseconds from now on unix host\n",
    "#  exat and pxat same for python clients since datetime is expected for both flags\n",
    "time.sleep(1.5)\n",
    "print(r.get(\"bike:pxat1\")) # Deimos\n",
    "time.sleep(3)\n",
    "print(r.get(\"bike:pxat1\")) # None"
   ]
  },
  {
   "cell_type": "code",
   "execution_count": 105,
   "id": "7e2cbfcd-a30d-474c-b221-23ebb264583c",
   "metadata": {},
   "outputs": [
    {
     "name": "stdout",
     "output_type": "stream",
     "text": [
      "Case 1: by default keep ttl settings are not retained if the latest set does not include them\n",
      "Deimos\n",
      "Deimos\n",
      "Case 1: by default keep ttl settings are overriden if the latest set overrides them\n",
      "None\n",
      "None\n",
      "Case 3: keepttl flag retains ttl settings from previous set command\n",
      "Deimos\n",
      "None\n"
     ]
    }
   ],
   "source": [
    "\"\"\"\n",
    "KEEPTTL\n",
    "- redis removes/overrides the ttl settings like EX, PX, EXAT, PXAT, etc if the latest set removes / overrides them\n",
    "- Retain the time to live associated with the key\n",
    "\"\"\"\n",
    "\n",
    "\n",
    "# by default, keepttl is false\n",
    "r.flushall()\n",
    "keepttl1 = r.set(\"bike:keepttl1\", \"Deimos\", ex = 3)\n",
    "keepttl1 = r.set(\"bike:keepttl1\", \"Deimos\") \n",
    "time.sleep(1.5)\n",
    "print(\"Case 1: by default keep ttl settings are not retained if the latest set does not include them\")\n",
    "print(r.get(\"bike:keepttl1\")) # Deimos\n",
    "time.sleep(3)\n",
    "print(r.get(\"bike:keepttl1\")) # Deimos\n",
    "\n",
    "\n",
    "r.flushall()\n",
    "keepttl1 = r.set(\"bike:keepttl1\", \"Deimos\", ex = 3)\n",
    "keepttl1 = r.set(\"bike:keepttl1\", \"Deimos\", ex = 1) \n",
    "print(\"Case 2: by default keep ttl settings are overriden if the latest set overrides them\")\n",
    "time.sleep(1.5)\n",
    "print(r.get(\"bike:keepttl1\")) # None\n",
    "time.sleep(3)\n",
    "print(r.get(\"bike:keepttl1\")) # None\n",
    "\n",
    "\n",
    "r.flushall()\n",
    "keepttl1 = r.set(\"bike:keepttl1\", \"Deimos\", ex = 3)\n",
    "keepttl1 = r.set(\"bike:keepttl1\", \"Deimos\",keepttl = True) \n",
    "print(\"Case 3: keepttl flag retains ttl settings from previous set command\")\n",
    "time.sleep(1.5)\n",
    "print(r.get(\"bike:keepttl1\")) # Deimos\n",
    "time.sleep(3)\n",
    "print(r.get(\"bike:keepttl1\")) # None"
   ]
  },
  {
   "cell_type": "code",
   "execution_count": 115,
   "id": "6c64594a-5276-4ea3-bebe-1870304e4799",
   "metadata": {},
   "outputs": [
    {
     "name": "stdout",
     "output_type": "stream",
     "text": [
      "True\n",
      "BMW\n",
      "Deimos\n"
     ]
    },
    {
     "data": {
      "text/plain": [
       "'\\n# An error is returned and SET aborted if the value stored at key is not a string\\nr.flushall()\\nset_get3 = r.lpush(\"bike:set_get3\", \"BMW\")\\nprint(set_get3) # 1\\nset_get3 = r.set(\"bike:set_get3\", \"Deimos\", get = True) # error - WRONGTYPE Operation against a key holding the wrong kind of value\\n'"
      ]
     },
     "execution_count": 115,
     "metadata": {},
     "output_type": "execute_result"
    }
   ],
   "source": [
    "\"\"\"\n",
    "GET\n",
    "- Return the old string stored at key, or nil if key did not exist. \n",
    "- By default get flag is set to False\n",
    "\"\"\"\n",
    "r.flushall()\n",
    "set_get1 = r.set(\"bike:set_get1\", \"BMW\", get = False)\n",
    "print(set_get1) # True\n",
    "set_get1 = r.set(\"bike:set_get1\", \"Deimos\", get = True)\n",
    "print(set_get1) # BMW\n",
    "set_get1 = r.set(\"bike:set_get1\", \"Bullet\", get = True) \n",
    "print(set_get1) # Deimos\n",
    "\n",
    "\"\"\"\n",
    "An error is returned and SET aborted if the value stored at key is not a string\n",
    "\"\"\"\n",
    "\"\"\"\n",
    "r.flushall()\n",
    "set_get3 = r.lpush(\"bike:set_get3\", \"BMW\")\n",
    "print(set_get3) # 1\n",
    "set_get3 = r.set(\"bike:set_get3\", \"Deimos\", get = True) # error - WRONGTYPE Operation against a key holding the wrong kind of value\n",
    "\"\"\""
   ]
  },
  {
   "cell_type": "code",
   "execution_count": 119,
   "id": "790b6f6b-1ea4-4a37-a938-51a9da90fd7a",
   "metadata": {},
   "outputs": [
    {
     "name": "stdout",
     "output_type": "stream",
     "text": [
      "1\n",
      "True Deimos\n"
     ]
    },
    {
     "data": {
      "text/plain": [
       "'\\nr.flushall()\\nset_get2 = r.set(\"bike:set_get2\", \"Deimos\")\\nprint(set_get2) # 1\\nset_get2 = r.lpush(\"bike:set_get2\", \"BMW\") # error - WRONGTYPE Operation against a key holding the wrong kind of value\\n'"
      ]
     },
     "execution_count": 119,
     "metadata": {},
     "output_type": "execute_result"
    }
   ],
   "source": [
    "\"\"\"\n",
    "miscellaneous\n",
    "\"\"\"\n",
    "\n",
    "\n",
    "\"\"\"\n",
    "key holding one data type can be overriden by key holding String using set\n",
    "\"\"\"\n",
    "r.flushall()\n",
    "set_get2 = r.lpush(\"bike:set_get2\", \"BMW\")\n",
    "print(set_get2) # 1\n",
    "set_get2 = r.set(\"bike:set_get2\", \"Deimos\")\n",
    "print(set_get2, r.get(\"bike:set_get2\")) # True Deimos\n",
    "\n",
    "\n",
    "\"\"\"\n",
    "vica versa is not true\n",
    "\"\"\"\n",
    "\"\"\"\n",
    "r.flushall()\n",
    "set_get2 = r.set(\"bike:set_get2\", \"Deimos\")\n",
    "print(set_get2) # 1\n",
    "set_get2 = r.lpush(\"bike:set_get2\", \"BMW\") # error - WRONGTYPE Operation against a key holding the wrong kind of value\n",
    "\"\"\"\n"
   ]
  },
  {
   "cell_type": "code",
   "execution_count": null,
   "id": "a5f166ca-7efd-44f4-8c4a-7b65a9f379eb",
   "metadata": {},
   "outputs": [],
   "source": []
  }
 ],
 "metadata": {
  "kernelspec": {
   "display_name": "Python 3 (ipykernel)",
   "language": "python",
   "name": "python3"
  },
  "language_info": {
   "codemirror_mode": {
    "name": "ipython",
    "version": 3
   },
   "file_extension": ".py",
   "mimetype": "text/x-python",
   "name": "python",
   "nbconvert_exporter": "python",
   "pygments_lexer": "ipython3",
   "version": "3.10.12"
  }
 },
 "nbformat": 4,
 "nbformat_minor": 5
}
