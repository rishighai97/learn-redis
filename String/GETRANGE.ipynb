{
 "cells": [
  {
   "cell_type": "code",
   "execution_count": 2,
   "id": "dcd3f732-4c37-4807-9b78-1c638fe1ce4d",
   "metadata": {},
   "outputs": [],
   "source": [
    "import redis\n",
    "import time\n",
    "from datetime import datetime, timedelta"
   ]
  },
  {
   "cell_type": "code",
   "execution_count": 3,
   "id": "46d513bd-0ff8-40f1-9d89-62681c044ae8",
   "metadata": {},
   "outputs": [],
   "source": [
    "r = redis.Redis(decode_responses=True)"
   ]
  },
  {
   "cell_type": "code",
   "execution_count": 10,
   "id": "693ebe65-2dc1-4ddc-9c43-c68b9290ecb5",
   "metadata": {},
   "outputs": [
    {
     "name": "stdout",
     "output_type": "stream",
     "text": [
      "This\n",
      "ing\n",
      "This is a string\n",
      "\n",
      "g\n"
     ]
    }
   ],
   "source": [
    "\"\"\"\n",
    "GETRANGE\n",
    "- Returns the substring of the string value stored at key, determined by the offsets start and end (both are inclusive). \n",
    "- TC - O(N) where N is the length of the returned string. \n",
    "    - The complexity is ultimately determined by the returned length, but because creating a substring from an existing string is very cheap, it can be considered O(1) for small strings.\n",
    "- Pattern - can be used to change part of key in O(1)\n",
    "\"\"\"\n",
    "r.flushall()\n",
    "r.set(\"mykey\", \"This is a string\")\n",
    "print(r.getrange(\"mykey\", 0, 3)) # This\n",
    "\n",
    "\"\"\"\n",
    "Negative offsets can be used in order to provide an offset starting from the end of the string. \n",
    "So -1 means the last character, -2 the penultimate and so forth.\n",
    "\"\"\"\n",
    "print(r.getrange(\"mykey\", -3, -1)) # ing\n",
    "print(r.getrange(\"mykey\", 0, -1)) # This is a string\n",
    "print(r.getrange(\"mykey\", -1, -3)) # <empty string>\n",
    "\n",
    "\"\"\"\n",
    "The function handles out of range requests by limiting the resulting range to the actual length of the string.\n",
    "\"\"\"\n",
    "print(r.getrange(\"mykey\", -1, 100)) # g"
   ]
  }
 ],
 "metadata": {
  "kernelspec": {
   "display_name": "Python 3 (ipykernel)",
   "language": "python",
   "name": "python3"
  },
  "language_info": {
   "codemirror_mode": {
    "name": "ipython",
    "version": 3
   },
   "file_extension": ".py",
   "mimetype": "text/x-python",
   "name": "python",
   "nbconvert_exporter": "python",
   "pygments_lexer": "ipython3",
   "version": "3.10.12"
  }
 },
 "nbformat": 4,
 "nbformat_minor": 5
}
