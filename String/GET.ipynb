{
 "cells": [
  {
   "cell_type": "code",
   "execution_count": 1,
   "id": "50e6f7df-1839-484b-a4ae-d19992bd20d2",
   "metadata": {},
   "outputs": [],
   "source": [
    "import redis\n",
    "import time\n",
    "from datetime import datetime, timedelta"
   ]
  },
  {
   "cell_type": "code",
   "execution_count": 2,
   "id": "3b4e45fc-b5a7-454d-9b35-1df2ac64a0d2",
   "metadata": {},
   "outputs": [],
   "source": [
    "r = redis.Redis(decode_responses=True)"
   ]
  },
  {
   "cell_type": "code",
   "execution_count": 16,
   "id": "270d44f1-c37d-49ce-a4e0-43a441b700fd",
   "metadata": {},
   "outputs": [
    {
     "name": "stdout",
     "output_type": "stream",
     "text": [
      "Deimos\n",
      "None\n",
      "['BULLET', 'BMW']\n"
     ]
    },
    {
     "data": {
      "text/plain": [
       "'\\nprint(r.get(\"bike:list\")) # error - WRONGTYPE Operation against a key holding the wrong kind of value\\n'"
      ]
     },
     "execution_count": 16,
     "metadata": {},
     "output_type": "execute_result"
    }
   ],
   "source": [
    "\"\"\"\n",
    "get(key)\n",
    "- Get the value of key. \n",
    "- TC : O(1)\n",
    "\"\"\"\n",
    "r.flushall()\n",
    "\n",
    "r.set(\"bike:1\", \"Deimos\")\n",
    "print(r.get(\"bike:1\"))  # Deimos\n",
    "\n",
    "\"\"\"\n",
    "If the key does not exist the special value nil is returned\n",
    "\"\"\"\n",
    "print(r.get(\"bike:2\"))  # None\n",
    "\n",
    "\n",
    "\n",
    "\"\"\"\n",
    "An error is returned if the value stored at key is not a string, because GET only handles string values\n",
    "\"\"\"\n",
    "r.lpush(\"bike:list\", \"BMW\", \"BULLET\")\n",
    "print(r.lrange(\"bike:list\",0,-1)) # ['BULLET', 'BMW']\n",
    "\"\"\"\n",
    "print(r.get(\"bike:list\")) # error - WRONGTYPE Operation against a key holding the wrong kind of value\n",
    "\"\"\"\n",
    "\n"
   ]
  },
  {
   "cell_type": "code",
   "execution_count": null,
   "id": "fd03e23f-63db-4bf4-b3ec-b90866830118",
   "metadata": {},
   "outputs": [],
   "source": []
  }
 ],
 "metadata": {
  "kernelspec": {
   "display_name": "Python 3 (ipykernel)",
   "language": "python",
   "name": "python3"
  },
  "language_info": {
   "codemirror_mode": {
    "name": "ipython",
    "version": 3
   },
   "file_extension": ".py",
   "mimetype": "text/x-python",
   "name": "python",
   "nbconvert_exporter": "python",
   "pygments_lexer": "ipython3",
   "version": "3.10.12"
  }
 },
 "nbformat": 4,
 "nbformat_minor": 5
}
