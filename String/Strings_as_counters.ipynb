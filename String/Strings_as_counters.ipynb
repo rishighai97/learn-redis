{
 "cells": [
  {
   "cell_type": "code",
   "execution_count": 1,
   "id": "46e5d199-de5f-456e-9c2d-c3153328193a",
   "metadata": {},
   "outputs": [],
   "source": [
    "import redis\n",
    "import time\n",
    "from datetime import datetime, timedelta"
   ]
  },
  {
   "cell_type": "code",
   "execution_count": 2,
   "id": "c19a76d2-09cf-4078-be59-0a3bc03e5cd1",
   "metadata": {},
   "outputs": [],
   "source": [
    "r = redis.Redis(decode_responses=True)"
   ]
  },
  {
   "cell_type": "code",
   "execution_count": 8,
   "id": "2edad736-4f4c-4a18-a45c-cd349994765a",
   "metadata": {},
   "outputs": [
    {
     "name": "stdout",
     "output_type": "stream",
     "text": [
      "1\n",
      "11\n",
      "10\n",
      "5\n",
      "1.5\n"
     ]
    }
   ],
   "source": [
    "\"\"\"\n",
    "- If numbers are stored in values, we can perform increment / decrement operation on them\n",
    "- internally all below functions call the same method\n",
    "- TC for all operations - O(1)\n",
    "\"\"\"\n",
    "r.flushall()\n",
    "r.set(\"website_visits\", 0)\n",
    "\"\"\"\n",
    "increment by 1\n",
    "\"\"\"\n",
    "result = r.incr(\"website_visits\")\n",
    "print(result)  # 1\n",
    "\n",
    "\"\"\"\n",
    "increment by N\n",
    "\"\"\"\n",
    "result = r.incrby(\"website_visits\", 10)\n",
    "print(result)  # 11\n",
    "\n",
    "\n",
    "\"\"\"\n",
    "decrement by 1\n",
    "\"\"\"\n",
    "result = r.decr(\"website_visits\")\n",
    "print(result)  # 10\n",
    "\n",
    "\n",
    "\"\"\"\n",
    "decrement by N\n",
    "\"\"\"\n",
    "result = r.decrby(\"website_visits\", 5)\n",
    "print(result)  # 5\n",
    "\n",
    "\"\"\"\n",
    "decrement by float will throw error\n",
    "\"\"\"\n",
    "\"\"\"\n",
    "result = r.decrby(\"website_visits\", 2.2) # error - value is not an integer or out of range\n",
    "\"\"\"\n",
    "\n",
    "\"\"\"\n",
    "INCRBYFLOAT\n",
    "increment counter using float number\n",
    "\"\"\"\n",
    "r.set(\"mykey\",1)\n",
    "result = r.incrbyfloat(\"mykey\",0.5)\n",
    "print(result) # 1.5\n"
   ]
  }
 ],
 "metadata": {
  "kernelspec": {
   "display_name": "Python 3 (ipykernel)",
   "language": "python",
   "name": "python3"
  },
  "language_info": {
   "codemirror_mode": {
    "name": "ipython",
    "version": 3
   },
   "file_extension": ".py",
   "mimetype": "text/x-python",
   "name": "python",
   "nbconvert_exporter": "python",
   "pygments_lexer": "ipython3",
   "version": "3.10.12"
  }
 },
 "nbformat": 4,
 "nbformat_minor": 5
}
