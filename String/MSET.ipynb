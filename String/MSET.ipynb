{
 "cells": [
  {
   "cell_type": "code",
   "execution_count": 1,
   "id": "75fd8483-889b-4623-8095-a9ca00a70110",
   "metadata": {},
   "outputs": [],
   "source": [
    "import redis\n",
    "import time\n",
    "from datetime import datetime, timedelta"
   ]
  },
  {
   "cell_type": "code",
   "execution_count": 2,
   "id": "dcd621ac-0f6c-49bd-ba64-714601572a8b",
   "metadata": {},
   "outputs": [],
   "source": [
    "r = redis.Redis(decode_responses=True)"
   ]
  },
  {
   "cell_type": "code",
   "execution_count": 8,
   "id": "6718389d-faa7-4461-b999-04268baa2b20",
   "metadata": {},
   "outputs": [
    {
     "name": "stdout",
     "output_type": "stream",
     "text": [
      "Deimos\n",
      "BMW\n"
     ]
    }
   ],
   "source": [
    "\"\"\"\n",
    "mset(key, value1, key2, value2,... ,valueN)\n",
    "- set multple String values for String key\n",
    "- passing same key would override the value by default\n",
    "- TC : O(N) where N is the number of keys to set\n",
    "- MSET is atomic, so all given keys are set at once. It is not possible for clients to see that some of the keys were updated while others are unchanged.\n",
    "\"\"\"\n",
    "r.flushall()\n",
    "default_mset = r.mset({\"bike:1\":\"Deimos\", \"bike:2\":\"BMW\"})\n",
    "print(r.get(\"bike:1\")) # Deimos\n",
    "print(r.get(\"bike:2\")) # BMW\n"
   ]
  }
 ],
 "metadata": {
  "kernelspec": {
   "display_name": "Python 3 (ipykernel)",
   "language": "python",
   "name": "python3"
  },
  "language_info": {
   "codemirror_mode": {
    "name": "ipython",
    "version": 3
   },
   "file_extension": ".py",
   "mimetype": "text/x-python",
   "name": "python",
   "nbconvert_exporter": "python",
   "pygments_lexer": "ipython3",
   "version": "3.10.12"
  }
 },
 "nbformat": 4,
 "nbformat_minor": 5
}
