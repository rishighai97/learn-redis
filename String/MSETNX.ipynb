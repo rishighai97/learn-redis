{
 "cells": [
  {
   "cell_type": "code",
   "execution_count": 1,
   "id": "608de6d4-91d6-45ab-8eb4-8b077e3845bb",
   "metadata": {},
   "outputs": [],
   "source": [
    "import redis\n",
    "import time\n",
    "from datetime import datetime, timedelta"
   ]
  },
  {
   "cell_type": "code",
   "execution_count": 2,
   "id": "0e7694e2-d069-4b17-8217-e646fca1c021",
   "metadata": {},
   "outputs": [],
   "source": [
    "r = redis.Redis(decode_responses=True)"
   ]
  },
  {
   "cell_type": "code",
   "execution_count": 11,
   "id": "09935b15-4c0c-4ba1-b08f-f29d3b5fe97b",
   "metadata": {},
   "outputs": [
    {
     "name": "stdout",
     "output_type": "stream",
     "text": [
      "Deimos\n",
      "Deimos\n",
      "None\n"
     ]
    }
   ],
   "source": [
    "\"\"\"\n",
    "msetnx(key, value1, key2, value2,... ,valueN)\n",
    "- Sets the given keys to their respective values. MSETNX will not perform any operation at all even if just a single key already exists\n",
    "- TC : O(N) where N is the number of keys to set\n",
    "- MSETNX is atomic, so all given keys are set at once. It is not possible for clients to see that some of the keys were updated while others are unchanged.\n",
    "\"\"\"\n",
    "r.flushall()\n",
    "r.set(\"bike:1\",\"Deimos\")\n",
    "print(r.get(\"bike:1\")) # Deimos\n",
    "default_msetnx = r.msetnx({\"bike:1\":\"BMW\", \"bike:2\":\"Bullet\"})\n",
    "print(r.get(\"bike:1\")) # Deimos\n",
    "print(r.get(\"bike:2\")) # None\n",
    "# since bike:1 already exists, value for bike:1 key is not updated to BMW and value for bike:2 key is not added at all"
   ]
  }
 ],
 "metadata": {
  "kernelspec": {
   "display_name": "Python 3 (ipykernel)",
   "language": "python",
   "name": "python3"
  },
  "language_info": {
   "codemirror_mode": {
    "name": "ipython",
    "version": 3
   },
   "file_extension": ".py",
   "mimetype": "text/x-python",
   "name": "python",
   "nbconvert_exporter": "python",
   "pygments_lexer": "ipython3",
   "version": "3.10.12"
  }
 },
 "nbformat": 4,
 "nbformat_minor": 5
}
